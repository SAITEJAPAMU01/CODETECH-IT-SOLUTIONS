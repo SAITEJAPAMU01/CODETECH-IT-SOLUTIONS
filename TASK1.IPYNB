{
 "cells": [
  {
   "cell_type": "code",
   "execution_count": 12,
   "metadata": {},
   "outputs": [
    {
     "name": "stdout",
     "output_type": "stream",
     "text": [
      "Number of rows: 10000000\n",
      "+-------+------------------+------------------+-----------------+-----------------+------------------+-----------------+------------------+------------------+-------------------+-----------------+------------------+--------------------+------------------+------------------+-------------------+\n",
      "|summary|         vendor_id|   passenger_count|    trip_distance|        rate_code|store_and_fwd_flag|     payment_type|       fare_amount|             extra|            mta_tax|       tip_amount|      tolls_amount|       imp_surcharge|      total_amount|pickup_location_id|dropoff_location_id|\n",
      "+-------+------------------+------------------+-----------------+-----------------+------------------+-----------------+------------------+------------------+-------------------+-----------------+------------------+--------------------+------------------+------------------+-------------------+\n",
      "|  count|          10000000|          10000000|         10000000|         10000000|          10000000|         10000000|          10000000|          10000000|           10000000|         10000000|          10000000|            10000000|          10000000|          10000000|           10000000|\n",
      "|   mean|         1.6143277|         1.6029494|8.849280209999373|        1.2012385|              NULL|        1.1892995|31.652551951001012|0.3383780649999998|        0.481928941|5.598526988997078| 2.137917997002514| 0.29788313799562144| 40.51607352909597|       153.5631699|        148.1428256|\n",
      "| stddev|0.5146575594508914|1.2457816727809248|5.882028461543568|1.250733433850376|              NULL|0.433987578317944|160.60113941564518|0.5512911467900149|0.12072823130547813|4.840596207475466|3.7503092962868356|0.034060274386492735|161.16336870776968| 60.76455590224351|  75.74852785257227|\n",
      "|    min|                 1|                 0|              0.0|                1|                 N|                1|            -800.0|             -80.0|               -0.5|          -322.42|             -52.5|                -0.3|            -800.3|                 1|                  1|\n",
      "|    max|                 4|                 9|          7655.76|               99|                 Y|                5|         398460.05|              84.0|              150.0|            496.0|            918.25|                 1.0|         398521.96|               265|                265|\n",
      "+-------+------------------+------------------+-----------------+-----------------+------------------+-----------------+------------------+------------------+-------------------+-----------------+------------------+--------------------+------------------+------------------+-------------------+\n",
      "\n"
     ]
    }
   ],
   "source": [
    "from pyspark.sql import SparkSession\n",
    "\n",
    "# Initialize a Spark session\n",
    "spark = SparkSession.builder \\\n",
    "    .appName(\"Large Dataset Analysis\") \\\n",
    "    .getOrCreate()\n",
    "\n",
    "# Load the dataset\n",
    "file_path = \"C:/Users/saite/Downloads/dataset nyc trip data.csv/taxi_trip_data.csv\"\n",
    "df = spark.read.csv(file_path, header=True, inferSchema=True)\n",
    "\n",
    "# Perform a simple analysis\n",
    "row_count = df.count()\n",
    "print(f\"Number of rows: {row_count}\")\n",
    "\n",
    "# Compute basic statistics\n",
    "df.describe().show()\n"
   ]
  },
  {
   "cell_type": "code",
   "execution_count": 13,
   "metadata": {},
   "outputs": [
    {
     "name": "stderr",
     "output_type": "stream",
     "text": [
      "c:\\Users\\saite\\AppData\\Local\\Programs\\Python\\Python313\\Lib\\site-packages\\distributed\\node.py:187: UserWarning: Port 8787 is already in use.\n",
      "Perhaps you already have a cluster running?\n",
      "Hosting the HTTP server on port 59738 instead\n",
      "  warnings.warn(\n",
      "2025-02-14 18:07:54,080 - distributed.scheduler - WARNING - Received heartbeat from unregistered worker 'tcp://127.0.0.1:59767'.\n"
     ]
    },
    {
     "name": "stdout",
     "output_type": "stream",
     "text": [
      "Number of rows: 10000000\n",
      "          vendor_id  passenger_count  trip_distance     rate_code  \\\n",
      "count  1.000000e+07     1.000000e+07   1.000000e+07  1.000000e+07   \n",
      "mean   1.614328e+00     1.602949e+00   8.849280e+00  1.201239e+00   \n",
      "std    5.146576e-01     1.245782e+00   5.882028e+00  1.250733e+00   \n",
      "min    1.000000e+00     0.000000e+00   0.000000e+00  1.000000e+00   \n",
      "25%    1.000000e+00     1.000000e+00   6.300000e+00  1.000000e+00   \n",
      "50%    2.000000e+00     1.000000e+00   8.910000e+00  1.000000e+00   \n",
      "75%    2.000000e+00     2.000000e+00   1.237000e+01  1.000000e+00   \n",
      "max    4.000000e+00     9.000000e+00   7.655760e+03  9.900000e+01   \n",
      "\n",
      "       payment_type   fare_amount         extra       mta_tax    tip_amount  \\\n",
      "count  1.000000e+07  1.000000e+07  1.000000e+07  1.000000e+07  1.000000e+07   \n",
      "mean   1.189299e+00  3.165255e+01  3.383781e-01  4.819289e-01  5.598527e+00   \n",
      "std    4.339876e-01  1.606011e+02  5.512911e-01  1.207282e-01  4.840596e+00   \n",
      "min    1.000000e+00 -8.000000e+02 -8.000000e+01 -5.000000e-01 -3.224200e+02   \n",
      "25%    1.000000e+00  2.400000e+01  0.000000e+00  5.000000e-01  4.560000e+00   \n",
      "50%    1.000000e+00  3.000000e+01  0.000000e+00  5.000000e-01  6.200000e+00   \n",
      "75%    2.000000e+00  4.250000e+01  5.000000e-01  5.000000e-01  8.260000e+00   \n",
      "max    5.000000e+00  3.984600e+05  8.400000e+01  1.500000e+02  4.960000e+02   \n",
      "\n",
      "       tolls_amount  imp_surcharge  total_amount  pickup_location_id  \\\n",
      "count  1.000000e+07   1.000000e+07  1.000000e+07        1.000000e+07   \n",
      "mean   2.137918e+00   2.978831e-01  4.051607e+01        1.535632e+02   \n",
      "std    3.750309e+00   3.406027e-02  1.611634e+02        6.076456e+01   \n",
      "min   -5.250000e+01  -3.000000e-01 -8.003000e+02        1.000000e+00   \n",
      "25%    0.000000e+00   3.000000e-01  3.030000e+01        1.320000e+02   \n",
      "50%    0.000000e+00   3.000000e-01  4.055000e+01        1.420000e+02   \n",
      "75%    5.760000e+00   3.000000e-01  5.449000e+01        2.300000e+02   \n",
      "max    9.182500e+02   1.000000e+00  3.985220e+05        2.650000e+02   \n",
      "\n",
      "       dropoff_location_id  \n",
      "count         1.000000e+07  \n",
      "mean          1.481428e+02  \n",
      "std           7.574853e+01  \n",
      "min           1.000000e+00  \n",
      "25%           9.300000e+01  \n",
      "50%           1.510000e+02  \n",
      "75%           2.300000e+02  \n",
      "max           2.650000e+02  \n"
     ]
    }
   ],
   "source": [
    "from dask.distributed import Client\n",
    "import dask.dataframe as dd\n",
    "\n",
    "# Initialize a Dask client\n",
    "client = Client()\n",
    "\n",
    "# Load the dataset\n",
    "file_path = \"C:/Users/saite/Downloads/dataset nyc trip data.csv/taxi_trip_data.csv\"\n",
    "df = dd.read_csv(file_path)\n",
    "\n",
    "# Perform analysis\n",
    "row_count = df.shape[0].compute()\n",
    "print(f\"Number of rows: {row_count}\")\n",
    "\n",
    "# Compute basic statistics\n",
    "stats = df.describe().compute()\n",
    "print(stats)\n"
   ]
  },
  {
   "cell_type": "code",
   "execution_count": 19,
   "metadata": {},
   "outputs": [],
   "source": [
    "import os\n",
    "from pyspark.sql import SparkSession\n",
    "from pyspark.sql.functions import col, avg, count, desc\n",
    "import pandas as pd\n",
    "import matplotlib.pyplot as plt\n",
    "\n",
    "# Initialize Spark session\n",
    "spark = SparkSession.builder.appName(\"BigDataProcessing\").getOrCreate()\n"
   ]
  },
  {
   "cell_type": "code",
   "execution_count": 21,
   "metadata": {},
   "outputs": [
    {
     "name": "stdout",
     "output_type": "stream",
     "text": [
      "File loaded successfully.\n"
     ]
    }
   ],
   "source": [
    "# File path\n",
    "file_path = \"C:/Users/saite/Downloads/dataset nyc trip data.csv/taxi_trip_data.csv\"\n",
    "# Check if file exists\n",
    "if os.path.exists(file_path):\n",
    "    # Load the dataset\n",
    "    df = spark.read.csv(file_path, header=True, inferSchema=True)\n",
    "    print(\"File loaded successfully.\")\n",
    "else:\n",
    "    print(f\"File not found: {file_path}\")\n",
    "    df = None\n"
   ]
  },
  {
   "cell_type": "code",
   "execution_count": 22,
   "metadata": {},
   "outputs": [
    {
     "name": "stdout",
     "output_type": "stream",
     "text": [
      "Basic data cleaning done.\n"
     ]
    }
   ],
   "source": [
    "if df is not None:\n",
    "    # Drop rows with missing values\n",
    "    df = df.na.drop()\n",
    "    print(\"Basic data cleaning done.\")\n",
    "else:\n",
    "    print(\"DataFrame is None, skipping data cleaning.\")\n"
   ]
  },
  {
   "cell_type": "code",
   "execution_count": 23,
   "metadata": {},
   "outputs": [
    {
     "name": "stdout",
     "output_type": "stream",
     "text": [
      "+-------+------------------+------------------+-----------------+-----------------+------------------+-----------------+------------------+------------------+-------------------+-----------------+------------------+--------------------+------------------+------------------+-------------------+\n",
      "|summary|         vendor_id|   passenger_count|    trip_distance|        rate_code|store_and_fwd_flag|     payment_type|       fare_amount|             extra|            mta_tax|       tip_amount|      tolls_amount|       imp_surcharge|      total_amount|pickup_location_id|dropoff_location_id|\n",
      "+-------+------------------+------------------+-----------------+-----------------+------------------+-----------------+------------------+------------------+-------------------+-----------------+------------------+--------------------+------------------+------------------+-------------------+\n",
      "|  count|          10000000|          10000000|         10000000|         10000000|          10000000|         10000000|          10000000|          10000000|           10000000|         10000000|          10000000|            10000000|          10000000|          10000000|           10000000|\n",
      "|   mean|         1.6143277|         1.6029494|8.849280209999373|        1.2012385|              NULL|        1.1892995|31.652551951001012|0.3383780649999998|        0.481928941|5.598526988997078| 2.137917997002514| 0.29788313799562144| 40.51607352909597|       153.5631699|        148.1428256|\n",
      "| stddev|0.5146575594508914|1.2457816727809248|5.882028461543568|1.250733433850376|              NULL|0.433987578317944|160.60113941564518|0.5512911467900149|0.12072823130547813|4.840596207475466|3.7503092962868356|0.034060274386492735|161.16336870776968| 60.76455590224351|  75.74852785257227|\n",
      "|    min|                 1|                 0|              0.0|                1|                 N|                1|            -800.0|             -80.0|               -0.5|          -322.42|             -52.5|                -0.3|            -800.3|                 1|                  1|\n",
      "|    max|                 4|                 9|          7655.76|               99|                 Y|                5|         398460.05|              84.0|              150.0|            496.0|            918.25|                 1.0|         398521.96|               265|                265|\n",
      "+-------+------------------+------------------+-----------------+-----------------+------------------+-----------------+------------------+------------------+-------------------+-----------------+------------------+--------------------+------------------+------------------+-------------------+\n",
      "\n"
     ]
    }
   ],
   "source": [
    "if df is not None:\n",
    "    # Show summary statistics\n",
    "    summary_stats = df.describe()\n",
    "    summary_stats.show()\n",
    "else:\n",
    "    print(\"DataFrame is None, skipping summary statistics.\")\n"
   ]
  },
  {
   "cell_type": "code",
   "execution_count": null,
   "metadata": {},
   "outputs": [
    {
     "name": "stdout",
     "output_type": "stream",
     "text": [
      "Dataset Head:\n",
      "   vendor_id      pickup_datetime     dropoff_datetime  passenger_count  \\\n",
      "0          2  2018-03-29 13:37:13  2018-03-29 14:17:01                1   \n",
      "1          2  2018-03-29 13:37:18  2018-03-29 14:15:33                1   \n",
      "2          2  2018-03-29 13:26:57  2018-03-29 13:28:03                1   \n",
      "3          2  2018-03-29 13:07:48  2018-03-29 14:03:05                2   \n",
      "4          2  2018-03-29 14:19:11  2018-03-29 15:19:59                5   \n",
      "\n",
      "   trip_distance  rate_code store_and_fwd_flag  payment_type  fare_amount  \\\n",
      "0          18.15          3                  N             1         70.0   \n",
      "1           4.59          1                  N             1         25.0   \n",
      "2           0.30          1                  N             1          3.0   \n",
      "3          16.97          1                  N             1         49.5   \n",
      "4          14.45          1                  N             1         45.5   \n",
      "\n",
      "   extra  mta_tax  tip_amount  tolls_amount  imp_surcharge  total_amount  \\\n",
      "0    0.0      0.0       16.16         10.50            0.3         96.96   \n",
      "1    0.0      0.5        5.16          0.00            0.3         30.96   \n",
      "2    0.0      0.5        0.76          0.00            0.3          4.56   \n",
      "3    0.0      0.5        5.61          5.76            0.3         61.67   \n",
      "4    0.0      0.5       10.41          5.76            0.3         62.47   \n",
      "\n",
      "   pickup_location_id  dropoff_location_id  \n",
      "0                 161                    1  \n",
      "1                  13                  230  \n",
      "2                 231                  231  \n",
      "3                 231                  138  \n",
      "4                  87                  138  \n",
      "\n",
      "Summary Statistics:\n",
      "          vendor_id  passenger_count  trip_distance     rate_code  \\\n",
      "count  1.000000e+07     1.000000e+07   1.000000e+07  1.000000e+07   \n",
      "mean   1.614328e+00     1.602949e+00   8.849280e+00  1.201239e+00   \n",
      "std    5.146576e-01     1.245782e+00   5.882028e+00  1.250733e+00   \n",
      "min    1.000000e+00     0.000000e+00   0.000000e+00  1.000000e+00   \n",
      "25%    1.000000e+00     1.000000e+00   5.820000e+00  1.000000e+00   \n",
      "50%    2.000000e+00     1.000000e+00   8.480000e+00  1.000000e+00   \n",
      "75%    2.000000e+00     2.000000e+00   1.110000e+01  1.000000e+00   \n",
      "max    4.000000e+00     9.000000e+00   7.655760e+03  9.900000e+01   \n",
      "\n",
      "       payment_type   fare_amount         extra       mta_tax    tip_amount  \\\n",
      "count  1.000000e+07  1.000000e+07  1.000000e+07  1.000000e+07  1.000000e+07   \n",
      "mean   1.189299e+00  3.165255e+01  3.383781e-01  4.819289e-01  5.598527e+00   \n",
      "std    4.339876e-01  1.606011e+02  5.512911e-01  1.207282e-01  4.840596e+00   \n",
      "min    1.000000e+00 -8.000000e+02 -8.000000e+01 -5.000000e-01 -3.224200e+02   \n",
      "25%    1.000000e+00  2.350000e+01  0.000000e+00  5.000000e-01  2.000000e+00   \n",
      "50%    1.000000e+00  2.850000e+01  0.000000e+00  5.000000e-01  5.560000e+00   \n",
      "75%    1.000000e+00  3.700000e+01  5.000000e-01  5.000000e-01  7.960000e+00   \n",
      "max    5.000000e+00  3.984600e+05  8.400000e+01  1.500000e+02  4.960000e+02   \n",
      "\n",
      "       tolls_amount  imp_surcharge  total_amount  pickup_location_id  \\\n",
      "count  1.000000e+07   1.000000e+07  1.000000e+07        1.000000e+07   \n",
      "mean   2.137918e+00   2.978831e-01  4.051607e+01        1.535632e+02   \n",
      "std    3.750309e+00   3.406027e-02  1.611634e+02        6.076456e+01   \n",
      "min   -5.250000e+01  -3.000000e-01 -8.003000e+02        1.000000e+00   \n",
      "25%    0.000000e+00   3.000000e-01  2.906000e+01        1.320000e+02   \n",
      "50%    0.000000e+00   3.000000e-01  3.730000e+01        1.380000e+02   \n",
      "75%    5.760000e+00   3.000000e-01  4.906000e+01        1.860000e+02   \n",
      "max    9.182500e+02   1.000000e+00  3.985220e+05        2.650000e+02   \n",
      "\n",
      "       dropoff_location_id  \n",
      "count         1.000000e+07  \n",
      "mean          1.481428e+02  \n",
      "std           7.574853e+01  \n",
      "min           1.000000e+00  \n",
      "25%           8.800000e+01  \n",
      "50%           1.420000e+02  \n",
      "75%           2.290000e+02  \n",
      "max           2.650000e+02  \n"
     ]
    }
   ],
   "source": [
    "import pandas as pd\n",
    "import numpy as np\n",
    "\n",
    "# Load dataset\n",
    "file_path = r'C:\\Users\\saite\\Downloads\\dataset nyc trip data.csv\\taxi_trip_data.csv'\n",
    "data = pd.read_csv(file_path)\n",
    "\n",
    "# Display the first few rows of the dataset\n",
    "print(\"Dataset Head:\")\n",
    "print(data.head())\n",
    "\n",
    "# Summary statistics\n",
    "print(\"\\nSummary Statistics:\")\n",
    "print(data.describe())\n",
    "\n",
    "# Handling missing values (example: filling missing values with the mean)\n",
    "data.fillna(data.mean(), inplace=True)\n",
    "\n",
    "# Example: Grouping data and calculating the mean for each group (e.g., by passenger count)\n",
    "grouped_data = data.groupby('passenger_count').mean()\n",
    "\n",
    "print(\"\\nGrouped Data (Mean by Passenger Count):\")\n",
    "print(grouped_data)\n",
    "\n",
    "# Example: Adding a new calculated column (e.g., cost per mile)\n",
    "data['cost_per_mile'] = data['total_amount'] / data['trip_distance']\n",
    "\n",
    "# Example: Filtering data based on a condition (e.g., trips longer than 5 miles)\n",
    "filtered_data = data[data['trip_distance'] > 5]\n",
    "\n",
    "print(\"\\nFiltered Data (Trips Longer Than 5 Miles):\")\n",
    "print(filtered_data)\n",
    "\n",
    "# Saving the processed data to a new CSV file\n",
    "data.to_csv('processed_taxi_trip_data.csv', index=False)\n"
   ]
  }
 ],
 "metadata": {
  "kernelspec": {
   "display_name": "Python 3",
   "language": "python",
   "name": "python3"
  },
  "language_info": {
   "codemirror_mode": {
    "name": "ipython",
    "version": 3
   },
   "file_extension": ".py",
   "mimetype": "text/x-python",
   "name": "python",
   "nbconvert_exporter": "python",
   "pygments_lexer": "ipython3",
   "version": "3.13.1"
  }
 },
 "nbformat": 4,
 "nbformat_minor": 2
}
